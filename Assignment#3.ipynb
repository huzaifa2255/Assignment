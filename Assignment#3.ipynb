{
 "cells": [
  {
   "cell_type": "code",
   "execution_count": 1,
   "metadata": {},
   "outputs": [
    {
     "name": "stdout",
     "output_type": "stream",
     "text": [
      "1. Addition\n",
      "2. Subtraction\n",
      "3. Multiplication\n",
      "4. Division\n",
      "5. Exit\n",
      "Enter your choice: 4\n",
      "Enter two numbers: \n",
      "22\n",
      "2\n",
      "Result =  11.0\n"
     ]
    }
   ],
   "source": [
    "print(\"1. Addition\");\n",
    "print(\"2. Subtraction\");\n",
    "print(\"3. Multiplication\");\n",
    "print(\"4. Division\");\n",
    "print(\"5. Exit\");\n",
    "choice = int(input(\"Enter your choice: \"));\n",
    "if (choice>=1 and choice<=4):\n",
    "    print(\"Enter two numbers: \");\n",
    "    num1 = int(input());\n",
    "    num2 = int(input());\n",
    "    if choice == 1:\n",
    "    \tres = num1 + num2;\n",
    "    \tprint(\"Result = \", res);\n",
    "    elif choice == 2:\n",
    "    \tres = num1 - num2;\n",
    "    \tprint(\"Result = \", res);\n",
    "    elif choice == 3:\n",
    "    \tres = num1 * num2;\n",
    "    \tprint(\"Result = \", res);\n",
    "    else:\n",
    "    \tres = num1 / num2;\n",
    "    \tprint(\"Result = \", res);\n",
    "elif choice == 5:\n",
    "    exit();\n",
    "else:\n",
    "    print(\"Wrong input..!!\");"
   ]
  },
  {
   "cell_type": "code",
   "execution_count": 6,
   "metadata": {},
   "outputs": [
    {
     "name": "stdout",
     "output_type": "stream",
     "text": [
      "The number of values are\n",
      "7 17 27 37 47 "
     ]
    }
   ],
   "source": [
    " \n",
    "def isDigitPresent(x, d): \n",
    "\n",
    " \n",
    "\twhile (x > 0): \n",
    "\t\n",
    "\t\tif (x % 10 == d): \n",
    "\t\t\tbreak\n",
    "\n",
    "\t\tx = x / 10\n",
    "\t\n",
    "\n",
    " \n",
    "\treturn (x > 0) \n",
    "\n",
    "\n",
    " \n",
    "def printNumbers(n, d): \n",
    "\n",
    " \n",
    "\tfor i in range(0, n+1): \n",
    " \n",
    "\t\tif (i == d or isDigitPresent(i, d)): \n",
    "\t\t\tprint(i,end=\" \") \n",
    "\n",
    "# Driver code \n",
    "n = 47\n",
    "d = 7\n",
    "print(\"The number of values are\") \n",
    "printNumbers(n, d) \n",
    "\n",
    "\n",
    "\n"
   ]
  },
  {
   "cell_type": "code",
   "execution_count": 7,
   "metadata": {},
   "outputs": [
    {
     "name": "stdout",
     "output_type": "stream",
     "text": [
      "{0: 10, 1: 20}\n",
      "{0: 10, 1: 20, 2: 30}\n"
     ]
    }
   ],
   "source": [
    "d = {0:10, 1:20}\n",
    "print(d)\n",
    "d.update({2:30})\n",
    "print(d)"
   ]
  },
  {
   "cell_type": "code",
   "execution_count": 8,
   "metadata": {},
   "outputs": [
    {
     "name": "stdout",
     "output_type": "stream",
     "text": [
      "293\n"
     ]
    }
   ],
   "source": [
    "my_dict = {'data1':100,'data2':-54,'data3':247}\n",
    "print(sum(my_dict.values()))\n"
   ]
  },
  {
   "cell_type": "code",
   "execution_count": 9,
   "metadata": {},
   "outputs": [
    {
     "name": "stdout",
     "output_type": "stream",
     "text": [
      "[20, 30, -20, 60]\n"
     ]
    }
   ],
   "source": [
    "def Repeat(x): \n",
    "\t_size = len(x) \n",
    "\trepeated = [] \n",
    "\tfor i in range(_size): \n",
    "\t\tk = i + 1\n",
    "\t\tfor j in range(k, _size): \n",
    "\t\t\tif x[i] == x[j] and x[i] not in repeated: \n",
    "\t\t\t\trepeated.append(x[i]) \n",
    "\treturn repeated \n",
    "\n",
    "list1 = [10, 20, 30, 20, 20, 30, 40, \n",
    "\t\t50, -20, 60, 60, -20, -20] \n",
    "print (Repeat(list1)) "
   ]
  },
  {
   "cell_type": "code",
   "execution_count": 10,
   "metadata": {},
   "outputs": [
    {
     "name": "stdout",
     "output_type": "stream",
     "text": [
      "Key is present in the dictionary\n",
      "Key is not present in the dictionary\n"
     ]
    }
   ],
   "source": [
    "d = {1: 10, 2: 20, 3: 30, 4: 40, 5: 50, 6: 60}\n",
    "def is_key_present(x):\n",
    "  if x in d:\n",
    "      print('Key is present in the dictionary')\n",
    "  else:\n",
    "      print('Key is not present in the dictionary')\n",
    "is_key_present(5)\n",
    "is_key_present(9)"
   ]
  },
  {
   "cell_type": "code",
   "execution_count": null,
   "metadata": {},
   "outputs": [],
   "source": []
  }
 ],
 "metadata": {
  "kernelspec": {
   "display_name": "Python 3",
   "language": "python",
   "name": "python3"
  },
  "language_info": {
   "codemirror_mode": {
    "name": "ipython",
    "version": 3
   },
   "file_extension": ".py",
   "mimetype": "text/x-python",
   "name": "python",
   "nbconvert_exporter": "python",
   "pygments_lexer": "ipython3",
   "version": "3.7.4"
  }
 },
 "nbformat": 4,
 "nbformat_minor": 2
}
